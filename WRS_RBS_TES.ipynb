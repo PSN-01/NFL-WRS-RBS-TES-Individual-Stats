{
  "nbformat": 4,
  "nbformat_minor": 0,
  "metadata": {
    "colab": {
      "provenance": [],
      "authorship_tag": "ABX9TyPittkAaM4FzMfvegcAJdNJ",
      "include_colab_link": true
    },
    "kernelspec": {
      "name": "python3",
      "display_name": "Python 3"
    },
    "language_info": {
      "name": "python"
    }
  },
  "cells": [
    {
      "cell_type": "markdown",
      "metadata": {
        "id": "view-in-github",
        "colab_type": "text"
      },
      "source": [
        "<a href=\"https://colab.research.google.com/github/PSN-01/NFL-WRS-RBS-TES-Individual-Stats/blob/main/WRS_RBS_TES.ipynb\" target=\"_parent\"><img src=\"https://colab.research.google.com/assets/colab-badge.svg\" alt=\"Open In Colab\"/></a>"
      ]
    },
    {
      "cell_type": "code",
      "source": [
        "# DOWNLOAD THEM FIRST!\n",
        "!pip install nfl_data_py\n",
        "!pip install pandas"
      ],
      "metadata": {
        "id": "3UmLn9ozMw56"
      },
      "execution_count": null,
      "outputs": []
    },
    {
      "cell_type": "markdown",
      "source": [
        "\n",
        "\n",
        "*   **Names to input are in this format (DONT FORGET CAPITAL LETTERS or dots): C.Kupp (NO JR's) ex. M.Harrison (ARI), O.beckham (NYG) or B.Thomas (JAX)**\n",
        "*   **Teams are input in team_abbr**\n",
        "*   **nfl_data_py only works for 1999-2024**"
      ],
      "metadata": {
        "id": "5g7e6vwrOdYm"
      }
    },
    {
      "cell_type": "code",
      "source": [
        "\n",
        "import nfl_data_py as nfl\n",
        "\n",
        "# Import team descriptions\n",
        "teams = nfl.import_team_desc()\n",
        "\n",
        "# Team names and team abbreviation\n",
        "print(teams[['team_abbr', 'team_name']])\n"
      ],
      "metadata": {
        "id": "6ChY3AdbPGKt"
      },
      "execution_count": null,
      "outputs": []
    },
    {
      "cell_type": "markdown",
      "source": [
        "# ***`Wide receivers, Tigh ends & Running backs (since 2016 with route stats)`***"
      ],
      "metadata": {
        "id": "i6kq-TORQUkb"
      }
    },
    {
      "cell_type": "code",
      "source": [
        "import nfl_data_py as nfl\n",
        "\n",
        "def wr_stats(player_name, team_name, year):\n",
        "\n",
        "    pbp = nfl.import_pbp_data([year])\n",
        "\n",
        "    # Receiving Filters\n",
        "    receiving_data = pbp[(pbp['season_type'] == 'REG') &  # Removes Playoff games\n",
        "                         (pbp['receiver_player_name'] == player_name) &\n",
        "                         (pbp['posteam'] == team_name)]  # Filter by team\n",
        "\n",
        "    receptions = receiving_data[receiving_data['complete_pass'] == 1].shape[0]\n",
        "    total_receiving_yards = receiving_data[receiving_data['complete_pass'] == 1]['yards_gained'].sum()\n",
        "    total_receiving_touchdowns = receiving_data[receiving_data['pass_touchdown'] == 1].shape[0]\n",
        "    average_receiving_yards = total_receiving_yards / receptions if receptions > 0 else 0\n",
        "\n",
        "    # Top 5 Routes\n",
        "    if 'route' in receiving_data.columns:\n",
        "        route_counts = receiving_data['route'].value_counts()\n",
        "        top_routes = route_counts.head(5)\n",
        "        total_routes = receiving_data['route'].notnull().sum()  # Count all routes\n",
        "        top_routes_percentage = (top_routes / total_routes) * 100 if total_routes > 0 else 0\n",
        "\n",
        "\n",
        "    # Rushing filters\n",
        "    rushing_data = pbp[(pbp['season_type'] == 'REG') &  # Remove Playoff games\n",
        "                       (pbp['rusher_player_name'] == player_name) &\n",
        "                       (pbp['posteam'] == team_name)]  # Filter by team\n",
        "\n",
        "    rush_attempts = rushing_data.shape[0]\n",
        "    total_rushing_yards = rushing_data['yards_gained'].sum()\n",
        "    total_rushing_touchdowns = rushing_data['rush_touchdown'].sum()\n",
        "\n",
        "    # 2pt conversions\n",
        "    two_point_conversion_data = pbp[(pbp['season_type'] == 'REG') &\n",
        "                                    (pbp['two_point_attempt'] == 1) &\n",
        "                                    (pbp['two_point_conv_result'] == 'success') &\n",
        "                                    ((pbp['receiver_player_name'] == player_name) |\n",
        "                                     (pbp['rusher_player_name'] == player_name)) &\n",
        "                                    (pbp['posteam'] == team_name)]  # Filter by team\n",
        "\n",
        "    two_point_conversions = two_point_conversion_data.shape[0]\n",
        "\n",
        "    # Starting games\n",
        "    games_played = pbp[(pbp['season_type'] == 'REG') &\n",
        "                       ((pbp['receiver_player_name'] == player_name) |\n",
        "                        (pbp['rusher_player_name'] == player_name)) &\n",
        "                       (pbp['posteam'] == team_name)]['game_id'].nunique()\n",
        "\n",
        "    print(f\"\\nReceiving Stats for {player_name} in {year}:\\n\")\n",
        "    print(f\"Total Receptions: {receptions}\")\n",
        "    print(f\"Total Receiving Yards: {total_receiving_yards}\")\n",
        "    print(f\"Total Receiving Touchdowns: {total_receiving_touchdowns}\")\n",
        "    print(f\"Average Receiving Yards: {average_receiving_yards:.2f}\")\n",
        "\n",
        "\n",
        "    print(f\"\\nRushing Stats for {player_name}:\\n\")\n",
        "    print(f\"Total Rushing Attempts: {rush_attempts}\")\n",
        "    print(f\"Total Rushing Yards: {total_rushing_yards}\")\n",
        "    print(f\"Total Rushing Touchdowns: {total_rushing_touchdowns}\")\n",
        "\n",
        "    # Routes only available from 2016 onwars\n",
        "    if 'route' in receiving_data.columns:\n",
        "        print(f\"\\nTop 5 Most Run Routes for {player_name}:\\n\")\n",
        "        for route, count in top_routes.items():\n",
        "            percentage = top_routes_percentage[route]\n",
        "            print(f\"{route}: {count} times, ({percentage:.2f}%)\")\n",
        "\n",
        "    print(f\"\\nOther Stats for {player_name}:\\n\")\n",
        "    print(f\"Total Two-Point Conversions: {two_point_conversions}\")\n",
        "\n",
        "    # Calculate Fantasy PPR Points NOT COUNTING FUMBLES\n",
        "    ppr_points = receptions + (total_receiving_touchdowns * 6) + (total_receiving_yards / 10) + (total_rushing_touchdowns * 6) + (total_rushing_yards / 10) + (two_point_conversions * 2)\n",
        "    ppr_points_per_game = ppr_points / games_played if games_played > 0 else 0\n",
        "\n",
        "    print(f\"Fantasy PPR Points: {ppr_points:.2f} (WITHOUT FUMBLES & PASSING STATS)\")\n",
        "    print(f\"Fantasy PPR Points Per Game: {ppr_points_per_game:.2f} (Average)\")\n",
        "\n",
        "player_name = input(\"Enter the player's name: \")\n",
        "team_name = input(\"Enter the player's team: \")\n",
        "year = int(input(\"Enter the player's year: \"))\n",
        "wr_stats(player_name, team_name, year)"
      ],
      "metadata": {
        "colab": {
          "base_uri": "https://localhost:8080/"
        },
        "id": "_wniWDoOclv5",
        "outputId": "4c3ce1c0-fef8-47c4-e4ce-a7766c79dc67"
      },
      "execution_count": 21,
      "outputs": [
        {
          "output_type": "stream",
          "name": "stdout",
          "text": [
            "Enter the player's name: B.Thomas\n",
            "Enter the player's team: JAX\n",
            "Enter the player's year: 2024\n",
            "2024 done.\n",
            "Downcasting floats.\n",
            "\n",
            "Receiving Stats for B.Thomas in 2024:\n",
            "\n",
            "Total Receptions: 22\n",
            "Total Receiving Yards: 397.0\n",
            "Total Receiving Touchdowns: 3\n",
            "Average Receiving Yards: 18.05\n",
            "\n",
            "Rushing Stats for B.Thomas:\n",
            "\n",
            "Total Rushing Attempts: 1\n",
            "Total Rushing Yards: 13.0\n",
            "Total Rushing Touchdowns: 0.0\n",
            "\n",
            "Other Stats for B.Thomas:\n",
            "\n",
            "Total Two-Point Conversions: 0\n",
            "Fantasy PPR Points: 81.00 (WITHOUT FUMBLES & PASSING STATS)\n",
            "Fantasy PPR Points Per Game: 16.20 (Average)\n"
          ]
        }
      ]
    }
  ]
}